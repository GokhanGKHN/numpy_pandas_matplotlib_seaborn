{
 "cells": [
  {
   "cell_type": "markdown",
   "metadata": {},
   "source": [
    "## UCI Machine Learning Repository data seti kullanılmıştır"
   ]
  },
  {
   "cell_type": "code",
   "execution_count": 2,
   "metadata": {},
   "outputs": [],
   "source": [
    "# Veri tipi dönüşümü ve eksik verinin tamamlanması (missing data imputation).\n",
    "# Sürekli nitelikleri belirli aralıklara bölmek ve kategorik veriye dönüştürmek amacıyla gerçekleştirilen veri ayrıklaştırma (data discretization).\n",
    "# Veri seti özetleme ve niteliklerin belirli kriterlere göre gruplandırılması.\n",
    "#  Veri setindeki tekrar eden gözlemlerin (duplicates) tespit edilmesi.\n",
    "#  Aykırı değerlerin tespit edilmesi (outlier detection).\n",
    "#   Rastgele örnekleme (random sampling) ve tabakalı örnekleme (stratified sampling).\n",
    "#      Kategorik nitelikleri sayısal formata dönüştürmede kullanılan yapay kodlama (dummy coding).\n",
    "#      farklı ölçeklerdeki nitelikleri aynı ölçeğe getirmeyi sağlayan veri normalizasyonu (data normalization)."
   ]
  },
  {
   "cell_type": "markdown",
   "metadata": {},
   "source": [
    "##  Python ile Temel Veri Ön-işleme Teknikleri"
   ]
  },
  {
   "cell_type": "code",
   "execution_count": 3,
   "metadata": {},
   "outputs": [],
   "source": [
    "import numpy as np\n",
    "import pandas as pd\n",
    "import seaborn as sns\n",
    "from matplotlib.cbook import boxplot_stats\n",
    "import random\n",
    "from random import sample\n",
    "from sklearn.model_selection import train_test_split\n",
    "from sklearn.preprocessing import  MinMaxScaler,StandardScaler\n",
    "\n",
    "\n",
    "\n"
   ]
  },
  {
   "cell_type": "code",
   "execution_count": 4,
   "metadata": {},
   "outputs": [
    {
     "name": "stderr",
     "output_type": "stream",
     "text": [
      "<>:2: SyntaxWarning: invalid escape sequence '\\s'\n",
      "<>:2: SyntaxWarning: invalid escape sequence '\\s'\n",
      "C:\\Users\\gokha\\AppData\\Local\\Temp\\ipykernel_2996\\3509779380.py:2: SyntaxWarning: invalid escape sequence '\\s'\n",
      "  verSeti=pd.read_csv(\"./auto-mpg.data\", sep=\"\\s+\",header=None, names=nitelikAdlari, index_col=\"car_name\",decimal=\".\")\n"
     ]
    },
    {
     "data": {
      "text/html": [
       "<div>\n",
       "<style scoped>\n",
       "    .dataframe tbody tr th:only-of-type {\n",
       "        vertical-align: middle;\n",
       "    }\n",
       "\n",
       "    .dataframe tbody tr th {\n",
       "        vertical-align: top;\n",
       "    }\n",
       "\n",
       "    .dataframe thead th {\n",
       "        text-align: right;\n",
       "    }\n",
       "</style>\n",
       "<table border=\"1\" class=\"dataframe\">\n",
       "  <thead>\n",
       "    <tr style=\"text-align: right;\">\n",
       "      <th></th>\n",
       "      <th>mpg</th>\n",
       "      <th>cylinders</th>\n",
       "      <th>displacement</th>\n",
       "      <th>horsepower</th>\n",
       "      <th>weight</th>\n",
       "      <th>acceleration</th>\n",
       "      <th>model_year</th>\n",
       "      <th>origin</th>\n",
       "    </tr>\n",
       "    <tr>\n",
       "      <th>car_name</th>\n",
       "      <th></th>\n",
       "      <th></th>\n",
       "      <th></th>\n",
       "      <th></th>\n",
       "      <th></th>\n",
       "      <th></th>\n",
       "      <th></th>\n",
       "      <th></th>\n",
       "    </tr>\n",
       "  </thead>\n",
       "  <tbody>\n",
       "    <tr>\n",
       "      <th>chevrolet chevelle malibu</th>\n",
       "      <td>18.0</td>\n",
       "      <td>8</td>\n",
       "      <td>307.0</td>\n",
       "      <td>130.0</td>\n",
       "      <td>3504.0</td>\n",
       "      <td>12.0</td>\n",
       "      <td>70</td>\n",
       "      <td>1</td>\n",
       "    </tr>\n",
       "    <tr>\n",
       "      <th>buick skylark 320</th>\n",
       "      <td>15.0</td>\n",
       "      <td>8</td>\n",
       "      <td>350.0</td>\n",
       "      <td>165.0</td>\n",
       "      <td>3693.0</td>\n",
       "      <td>11.5</td>\n",
       "      <td>70</td>\n",
       "      <td>1</td>\n",
       "    </tr>\n",
       "    <tr>\n",
       "      <th>plymouth satellite</th>\n",
       "      <td>18.0</td>\n",
       "      <td>8</td>\n",
       "      <td>318.0</td>\n",
       "      <td>150.0</td>\n",
       "      <td>3436.0</td>\n",
       "      <td>11.0</td>\n",
       "      <td>70</td>\n",
       "      <td>1</td>\n",
       "    </tr>\n",
       "    <tr>\n",
       "      <th>amc rebel sst</th>\n",
       "      <td>16.0</td>\n",
       "      <td>8</td>\n",
       "      <td>304.0</td>\n",
       "      <td>150.0</td>\n",
       "      <td>3433.0</td>\n",
       "      <td>12.0</td>\n",
       "      <td>70</td>\n",
       "      <td>1</td>\n",
       "    </tr>\n",
       "    <tr>\n",
       "      <th>ford torino</th>\n",
       "      <td>17.0</td>\n",
       "      <td>8</td>\n",
       "      <td>302.0</td>\n",
       "      <td>140.0</td>\n",
       "      <td>3449.0</td>\n",
       "      <td>10.5</td>\n",
       "      <td>70</td>\n",
       "      <td>1</td>\n",
       "    </tr>\n",
       "    <tr>\n",
       "      <th>...</th>\n",
       "      <td>...</td>\n",
       "      <td>...</td>\n",
       "      <td>...</td>\n",
       "      <td>...</td>\n",
       "      <td>...</td>\n",
       "      <td>...</td>\n",
       "      <td>...</td>\n",
       "      <td>...</td>\n",
       "    </tr>\n",
       "    <tr>\n",
       "      <th>ford mustang gl</th>\n",
       "      <td>27.0</td>\n",
       "      <td>4</td>\n",
       "      <td>140.0</td>\n",
       "      <td>86.00</td>\n",
       "      <td>2790.0</td>\n",
       "      <td>15.6</td>\n",
       "      <td>82</td>\n",
       "      <td>1</td>\n",
       "    </tr>\n",
       "    <tr>\n",
       "      <th>vw pickup</th>\n",
       "      <td>44.0</td>\n",
       "      <td>4</td>\n",
       "      <td>97.0</td>\n",
       "      <td>52.00</td>\n",
       "      <td>2130.0</td>\n",
       "      <td>24.6</td>\n",
       "      <td>82</td>\n",
       "      <td>2</td>\n",
       "    </tr>\n",
       "    <tr>\n",
       "      <th>dodge rampage</th>\n",
       "      <td>32.0</td>\n",
       "      <td>4</td>\n",
       "      <td>135.0</td>\n",
       "      <td>84.00</td>\n",
       "      <td>2295.0</td>\n",
       "      <td>11.6</td>\n",
       "      <td>82</td>\n",
       "      <td>1</td>\n",
       "    </tr>\n",
       "    <tr>\n",
       "      <th>ford ranger</th>\n",
       "      <td>28.0</td>\n",
       "      <td>4</td>\n",
       "      <td>120.0</td>\n",
       "      <td>79.00</td>\n",
       "      <td>2625.0</td>\n",
       "      <td>18.6</td>\n",
       "      <td>82</td>\n",
       "      <td>1</td>\n",
       "    </tr>\n",
       "    <tr>\n",
       "      <th>chevy s-10</th>\n",
       "      <td>31.0</td>\n",
       "      <td>4</td>\n",
       "      <td>119.0</td>\n",
       "      <td>82.00</td>\n",
       "      <td>2720.0</td>\n",
       "      <td>19.4</td>\n",
       "      <td>82</td>\n",
       "      <td>1</td>\n",
       "    </tr>\n",
       "  </tbody>\n",
       "</table>\n",
       "<p>398 rows × 8 columns</p>\n",
       "</div>"
      ],
      "text/plain": [
       "                            mpg  cylinders  displacement horsepower  weight  \\\n",
       "car_name                                                                      \n",
       "chevrolet chevelle malibu  18.0          8         307.0      130.0  3504.0   \n",
       "buick skylark 320          15.0          8         350.0      165.0  3693.0   \n",
       "plymouth satellite         18.0          8         318.0      150.0  3436.0   \n",
       "amc rebel sst              16.0          8         304.0      150.0  3433.0   \n",
       "ford torino                17.0          8         302.0      140.0  3449.0   \n",
       "...                         ...        ...           ...        ...     ...   \n",
       "ford mustang gl            27.0          4         140.0      86.00  2790.0   \n",
       "vw pickup                  44.0          4          97.0      52.00  2130.0   \n",
       "dodge rampage              32.0          4         135.0      84.00  2295.0   \n",
       "ford ranger                28.0          4         120.0      79.00  2625.0   \n",
       "chevy s-10                 31.0          4         119.0      82.00  2720.0   \n",
       "\n",
       "                           acceleration  model_year  origin  \n",
       "car_name                                                     \n",
       "chevrolet chevelle malibu          12.0          70       1  \n",
       "buick skylark 320                  11.5          70       1  \n",
       "plymouth satellite                 11.0          70       1  \n",
       "amc rebel sst                      12.0          70       1  \n",
       "ford torino                        10.5          70       1  \n",
       "...                                 ...         ...     ...  \n",
       "ford mustang gl                    15.6          82       1  \n",
       "vw pickup                          24.6          82       2  \n",
       "dodge rampage                      11.6          82       1  \n",
       "ford ranger                        18.6          82       1  \n",
       "chevy s-10                         19.4          82       1  \n",
       "\n",
       "[398 rows x 8 columns]"
      ]
     },
     "execution_count": 4,
     "metadata": {},
     "output_type": "execute_result"
    }
   ],
   "source": [
    "nitelikAdlari=[\"mpg\",\"cylinders\",\"displacement\",\"horsepower\",\"weight\",\"acceleration\",\"model_year\",\"origin\",\"car_name\"]\n",
    "verSeti=pd.read_csv(\"./auto-mpg.data\", sep=\"\\s+\",header=None, names=nitelikAdlari, index_col=\"car_name\",decimal=\".\")\n",
    "verSeti"
   ]
  },
  {
   "cell_type": "code",
   "execution_count": 5,
   "metadata": {},
   "outputs": [
    {
     "data": {
      "text/plain": [
       "mpg             float64\n",
       "cylinders         int64\n",
       "displacement    float64\n",
       "horsepower       object\n",
       "weight          float64\n",
       "acceleration    float64\n",
       "model_year        int64\n",
       "origin            int64\n",
       "dtype: object"
      ]
     },
     "execution_count": 5,
     "metadata": {},
     "output_type": "execute_result"
    }
   ],
   "source": [
    "verSeti.dtypes"
   ]
  },
  {
   "cell_type": "markdown",
   "metadata": {},
   "source": [
    "## Veri Tipi Dönüşümü ve Eksik Verinin Tamamlanması"
   ]
  },
  {
   "cell_type": "code",
   "execution_count": 6,
   "metadata": {},
   "outputs": [],
   "source": [
    "verSeti.loc[verSeti.horsepower == \"?\",\"horsepower\"] =np.nan\n",
    "verSeti.horsepower =verSeti.horsepower.astype(\"float64\")"
   ]
  },
  {
   "cell_type": "code",
   "execution_count": 7,
   "metadata": {},
   "outputs": [
    {
     "name": "stdout",
     "output_type": "stream",
     "text": [
      "mpg             0\n",
      "cylinders       0\n",
      "displacement    0\n",
      "horsepower      6\n",
      "weight          0\n",
      "acceleration    0\n",
      "model_year      0\n",
      "origin          0\n",
      "dtype: int64\n"
     ]
    }
   ],
   "source": [
    "print(verSeti.isnull().sum())"
   ]
  },
  {
   "cell_type": "code",
   "execution_count": 8,
   "metadata": {},
   "outputs": [
    {
     "name": "stdout",
     "output_type": "stream",
     "text": [
      "mpg             0\n",
      "cylinders       0\n",
      "displacement    0\n",
      "horsepower      0\n",
      "weight          0\n",
      "acceleration    0\n",
      "model_year      0\n",
      "origin          0\n",
      "dtype: int64\n"
     ]
    },
    {
     "name": "stderr",
     "output_type": "stream",
     "text": [
      "C:\\Users\\gokha\\AppData\\Local\\Temp\\ipykernel_2996\\1700195849.py:1: FutureWarning: A value is trying to be set on a copy of a DataFrame or Series through chained assignment using an inplace method.\n",
      "The behavior will change in pandas 3.0. This inplace method will never work because the intermediate object on which we are setting values always behaves as a copy.\n",
      "\n",
      "For example, when doing 'df[col].method(value, inplace=True)', try using 'df.method({col: value}, inplace=True)' or df[col] = df[col].method(value) instead, to perform the operation inplace on the original object.\n",
      "\n",
      "\n",
      "  verSeti[\"horsepower\"].fillna(verSeti[\"horsepower\"].mean().round(0),inplace=True)\n"
     ]
    }
   ],
   "source": [
    "verSeti[\"horsepower\"].fillna(verSeti[\"horsepower\"].mean().round(0),inplace=True)\n",
    "print(verSeti.isnull().sum())"
   ]
  },
  {
   "cell_type": "code",
   "execution_count": 9,
   "metadata": {},
   "outputs": [],
   "source": [
    "#ikinci yol\n",
    "verSeti.loc[verSeti.horsepower.isnull(),\"horsepower\"] = verSeti.loc[~(verSeti.horsepower.isnull()),\"horsepower\"].mean().round(0)"
   ]
  },
  {
   "cell_type": "code",
   "execution_count": 10,
   "metadata": {},
   "outputs": [
    {
     "data": {
      "text/plain": [
       "durum\n",
       "Düşük     208\n",
       "Orta       98\n",
       "Yüksek     92\n",
       "Name: count, dtype: int64"
      ]
     },
     "execution_count": 10,
     "metadata": {},
     "output_type": "execute_result"
    }
   ],
   "source": [
    "verSeti[\"durum\"] = verSeti.mpg.map(lambda x : \"Düşük\" if x < 23.5 else \"Orta\" if((x >= 23.5) & (x<30)) else \"Yüksek\" ).astype(\"category\")\n",
    "verSeti.durum.value_counts()"
   ]
  },
  {
   "cell_type": "code",
   "execution_count": 11,
   "metadata": {},
   "outputs": [
    {
     "data": {
      "text/plain": [
       "mpg\n",
       "(8.999, 19.0]     143\n",
       "(26.933, 46.6]    133\n",
       "(19.0, 26.933]    122\n",
       "Name: count, dtype: int64"
      ]
     },
     "execution_count": 11,
     "metadata": {},
     "output_type": "execute_result"
    }
   ],
   "source": [
    "bolmeKartegorileri=[\"Düşük\",\"Orta\",\"Yüksek\"]\n",
    "bolmeler=[8,23.4,29.9,46.6]\n",
    "\n",
    "verSeti[\"durum\"]= pd.cut(verSeti[\"mpg\"], bins=bolmeler,labels=bolmeKartegorileri)\n",
    "durum_ef=pd.qcut(verSeti[\"mpg\"], q=3)\n",
    "durum_ef.value_counts()"
   ]
  },
  {
   "cell_type": "markdown",
   "metadata": {},
   "source": [
    "##  Veri Seti Özeti ve Veri Gruplandırma"
   ]
  },
  {
   "cell_type": "markdown",
   "metadata": {},
   "source": [
    "- kaç adet örnek olduğu (count), \n",
    "- ortalama (mean), \n",
    "- standart sapma (std), \n",
    "- minimum değer (min), \n",
    "- kartil (25%), \n",
    "- kartil/ortanca değer (50% ya da median), \n",
    "- kartil (75%) ve \n",
    "- maksimum değer (max)\n",
    "\n",
    "Kategorik nitelikler için ise; \n",
    "- kaç adet örnek içerdiği (count), \n",
    "- kaç kategoriye sahip olduğu (unique),\n",
    "- en yüksek frekansa sahip olan kategorinin adı (top),\n",
    "- veri setinde o kategoriye sahip kaç örnek olduğu (freq) "
   ]
  },
  {
   "cell_type": "code",
   "execution_count": 12,
   "metadata": {},
   "outputs": [
    {
     "data": {
      "text/html": [
       "<div>\n",
       "<style scoped>\n",
       "    .dataframe tbody tr th:only-of-type {\n",
       "        vertical-align: middle;\n",
       "    }\n",
       "\n",
       "    .dataframe tbody tr th {\n",
       "        vertical-align: top;\n",
       "    }\n",
       "\n",
       "    .dataframe thead th {\n",
       "        text-align: right;\n",
       "    }\n",
       "</style>\n",
       "<table border=\"1\" class=\"dataframe\">\n",
       "  <thead>\n",
       "    <tr style=\"text-align: right;\">\n",
       "      <th></th>\n",
       "      <th>mpg</th>\n",
       "      <th>cylinders</th>\n",
       "      <th>displacement</th>\n",
       "      <th>horsepower</th>\n",
       "      <th>weight</th>\n",
       "      <th>acceleration</th>\n",
       "      <th>model_year</th>\n",
       "      <th>origin</th>\n",
       "      <th>durum</th>\n",
       "    </tr>\n",
       "  </thead>\n",
       "  <tbody>\n",
       "    <tr>\n",
       "      <th>count</th>\n",
       "      <td>398.000000</td>\n",
       "      <td>398.000000</td>\n",
       "      <td>398.000000</td>\n",
       "      <td>398.000000</td>\n",
       "      <td>398.000000</td>\n",
       "      <td>398.000000</td>\n",
       "      <td>398.000000</td>\n",
       "      <td>398.000000</td>\n",
       "      <td>398</td>\n",
       "    </tr>\n",
       "    <tr>\n",
       "      <th>unique</th>\n",
       "      <td>NaN</td>\n",
       "      <td>NaN</td>\n",
       "      <td>NaN</td>\n",
       "      <td>NaN</td>\n",
       "      <td>NaN</td>\n",
       "      <td>NaN</td>\n",
       "      <td>NaN</td>\n",
       "      <td>NaN</td>\n",
       "      <td>3</td>\n",
       "    </tr>\n",
       "    <tr>\n",
       "      <th>top</th>\n",
       "      <td>NaN</td>\n",
       "      <td>NaN</td>\n",
       "      <td>NaN</td>\n",
       "      <td>NaN</td>\n",
       "      <td>NaN</td>\n",
       "      <td>NaN</td>\n",
       "      <td>NaN</td>\n",
       "      <td>NaN</td>\n",
       "      <td>Düşük</td>\n",
       "    </tr>\n",
       "    <tr>\n",
       "      <th>freq</th>\n",
       "      <td>NaN</td>\n",
       "      <td>NaN</td>\n",
       "      <td>NaN</td>\n",
       "      <td>NaN</td>\n",
       "      <td>NaN</td>\n",
       "      <td>NaN</td>\n",
       "      <td>NaN</td>\n",
       "      <td>NaN</td>\n",
       "      <td>208</td>\n",
       "    </tr>\n",
       "    <tr>\n",
       "      <th>mean</th>\n",
       "      <td>23.514573</td>\n",
       "      <td>5.454774</td>\n",
       "      <td>193.425879</td>\n",
       "      <td>104.462312</td>\n",
       "      <td>2970.424623</td>\n",
       "      <td>15.568090</td>\n",
       "      <td>76.010050</td>\n",
       "      <td>1.572864</td>\n",
       "      <td>NaN</td>\n",
       "    </tr>\n",
       "    <tr>\n",
       "      <th>std</th>\n",
       "      <td>7.815984</td>\n",
       "      <td>1.701004</td>\n",
       "      <td>104.269838</td>\n",
       "      <td>38.199230</td>\n",
       "      <td>846.841774</td>\n",
       "      <td>2.757689</td>\n",
       "      <td>3.697627</td>\n",
       "      <td>0.802055</td>\n",
       "      <td>NaN</td>\n",
       "    </tr>\n",
       "    <tr>\n",
       "      <th>min</th>\n",
       "      <td>9.000000</td>\n",
       "      <td>3.000000</td>\n",
       "      <td>68.000000</td>\n",
       "      <td>46.000000</td>\n",
       "      <td>1613.000000</td>\n",
       "      <td>8.000000</td>\n",
       "      <td>70.000000</td>\n",
       "      <td>1.000000</td>\n",
       "      <td>NaN</td>\n",
       "    </tr>\n",
       "    <tr>\n",
       "      <th>25%</th>\n",
       "      <td>17.500000</td>\n",
       "      <td>4.000000</td>\n",
       "      <td>104.250000</td>\n",
       "      <td>76.000000</td>\n",
       "      <td>2223.750000</td>\n",
       "      <td>13.825000</td>\n",
       "      <td>73.000000</td>\n",
       "      <td>1.000000</td>\n",
       "      <td>NaN</td>\n",
       "    </tr>\n",
       "    <tr>\n",
       "      <th>50%</th>\n",
       "      <td>23.000000</td>\n",
       "      <td>4.000000</td>\n",
       "      <td>148.500000</td>\n",
       "      <td>95.000000</td>\n",
       "      <td>2803.500000</td>\n",
       "      <td>15.500000</td>\n",
       "      <td>76.000000</td>\n",
       "      <td>1.000000</td>\n",
       "      <td>NaN</td>\n",
       "    </tr>\n",
       "    <tr>\n",
       "      <th>75%</th>\n",
       "      <td>29.000000</td>\n",
       "      <td>8.000000</td>\n",
       "      <td>262.000000</td>\n",
       "      <td>125.000000</td>\n",
       "      <td>3608.000000</td>\n",
       "      <td>17.175000</td>\n",
       "      <td>79.000000</td>\n",
       "      <td>2.000000</td>\n",
       "      <td>NaN</td>\n",
       "    </tr>\n",
       "    <tr>\n",
       "      <th>max</th>\n",
       "      <td>46.600000</td>\n",
       "      <td>8.000000</td>\n",
       "      <td>455.000000</td>\n",
       "      <td>230.000000</td>\n",
       "      <td>5140.000000</td>\n",
       "      <td>24.800000</td>\n",
       "      <td>82.000000</td>\n",
       "      <td>3.000000</td>\n",
       "      <td>NaN</td>\n",
       "    </tr>\n",
       "  </tbody>\n",
       "</table>\n",
       "</div>"
      ],
      "text/plain": [
       "               mpg   cylinders  displacement  horsepower       weight  \\\n",
       "count   398.000000  398.000000    398.000000  398.000000   398.000000   \n",
       "unique         NaN         NaN           NaN         NaN          NaN   \n",
       "top            NaN         NaN           NaN         NaN          NaN   \n",
       "freq           NaN         NaN           NaN         NaN          NaN   \n",
       "mean     23.514573    5.454774    193.425879  104.462312  2970.424623   \n",
       "std       7.815984    1.701004    104.269838   38.199230   846.841774   \n",
       "min       9.000000    3.000000     68.000000   46.000000  1613.000000   \n",
       "25%      17.500000    4.000000    104.250000   76.000000  2223.750000   \n",
       "50%      23.000000    4.000000    148.500000   95.000000  2803.500000   \n",
       "75%      29.000000    8.000000    262.000000  125.000000  3608.000000   \n",
       "max      46.600000    8.000000    455.000000  230.000000  5140.000000   \n",
       "\n",
       "        acceleration  model_year      origin  durum  \n",
       "count     398.000000  398.000000  398.000000    398  \n",
       "unique           NaN         NaN         NaN      3  \n",
       "top              NaN         NaN         NaN  Düşük  \n",
       "freq             NaN         NaN         NaN    208  \n",
       "mean       15.568090   76.010050    1.572864    NaN  \n",
       "std         2.757689    3.697627    0.802055    NaN  \n",
       "min         8.000000   70.000000    1.000000    NaN  \n",
       "25%        13.825000   73.000000    1.000000    NaN  \n",
       "50%        15.500000   76.000000    1.000000    NaN  \n",
       "75%        17.175000   79.000000    2.000000    NaN  \n",
       "max        24.800000   82.000000    3.000000    NaN  "
      ]
     },
     "execution_count": 12,
     "metadata": {},
     "output_type": "execute_result"
    }
   ],
   "source": [
    "pd.set_option(\"display.max_columns\",20)\n",
    "verSeti.describe(include=\"all\")"
   ]
  },
  {
   "cell_type": "markdown",
   "metadata": {},
   "source": [
    "- A değişkeni DataFrame iken B değişkeni Series nesnesidir"
   ]
  },
  {
   "cell_type": "code",
   "execution_count": 13,
   "metadata": {},
   "outputs": [
    {
     "name": "stdout",
     "output_type": "stream",
     "text": [
      "              mpg\n",
      "durum            \n",
      "Düşük   17.263942\n",
      "Orta    26.343878\n",
      "Yüksek  34.632609\n",
      "durum\n",
      "Düşük     17.263942\n",
      "Orta      26.343878\n",
      "Yüksek    34.632609\n",
      "Name: mpg, dtype: float64\n",
      "           mpg\n",
      "durum         \n",
      "Düşük   3590.9\n",
      "Orta    2581.7\n",
      "Yüksek  3186.2\n",
      "        mpg\n",
      "durum      \n",
      "Düşük   208\n",
      "Orta     98\n",
      "Yüksek   92\n",
      "         mpg\n",
      "durum       \n",
      "Düşük    9.0\n",
      "Orta    23.5\n",
      "Yüksek  30.0\n",
      "         mpg\n",
      "durum       \n",
      "Düşük   23.2\n",
      "Orta    29.9\n",
      "Yüksek  46.6\n",
      "             mpg\n",
      "durum           \n",
      "Düşük   3.353821\n",
      "Orta    1.783606\n",
      "Yüksek  3.826343\n",
      "          mpg                                                       \n",
      "        count       mean       std   min     25%    50%    75%   max\n",
      "durum                                                               \n",
      "Düşük   208.0  17.263942  3.353821   9.0  14.375  17.55  20.00  23.2\n",
      "Orta     98.0  26.343878  1.783606  23.5  25.000  26.00  28.00  29.9\n",
      "Yüksek   92.0  34.632609  3.826343  30.0  31.875  33.90  36.55  46.6\n"
     ]
    },
    {
     "name": "stderr",
     "output_type": "stream",
     "text": [
      "C:\\Users\\gokha\\AppData\\Local\\Temp\\ipykernel_2996\\2966597711.py:1: FutureWarning: The default of observed=False is deprecated and will be changed to True in a future version of pandas. Pass observed=False to retain current behavior or observed=True to adopt the future default and silence this warning.\n",
      "  A=verSeti[[\"mpg\",\"durum\"]].groupby(\"durum\").mean()\n",
      "C:\\Users\\gokha\\AppData\\Local\\Temp\\ipykernel_2996\\2966597711.py:2: FutureWarning: The default of observed=False is deprecated and will be changed to True in a future version of pandas. Pass observed=False to retain current behavior or observed=True to adopt the future default and silence this warning.\n",
      "  B=verSeti.groupby(\"durum\")[\"mpg\"].mean()\n",
      "C:\\Users\\gokha\\AppData\\Local\\Temp\\ipykernel_2996\\2966597711.py:4: FutureWarning: The default of observed=False is deprecated and will be changed to True in a future version of pandas. Pass observed=False to retain current behavior or observed=True to adopt the future default and silence this warning.\n",
      "  C=verSeti[[\"mpg\",\"durum\"]].groupby(\"durum\").sum()\n",
      "C:\\Users\\gokha\\AppData\\Local\\Temp\\ipykernel_2996\\2966597711.py:5: FutureWarning: The default of observed=False is deprecated and will be changed to True in a future version of pandas. Pass observed=False to retain current behavior or observed=True to adopt the future default and silence this warning.\n",
      "  D=verSeti[[\"mpg\",\"durum\"]].groupby(\"durum\").count()\n",
      "C:\\Users\\gokha\\AppData\\Local\\Temp\\ipykernel_2996\\2966597711.py:6: FutureWarning: The default of observed=False is deprecated and will be changed to True in a future version of pandas. Pass observed=False to retain current behavior or observed=True to adopt the future default and silence this warning.\n",
      "  E=verSeti[[\"mpg\",\"durum\"]].groupby(\"durum\").min()\n",
      "C:\\Users\\gokha\\AppData\\Local\\Temp\\ipykernel_2996\\2966597711.py:7: FutureWarning: The default of observed=False is deprecated and will be changed to True in a future version of pandas. Pass observed=False to retain current behavior or observed=True to adopt the future default and silence this warning.\n",
      "  F=verSeti[[\"mpg\",\"durum\"]].groupby(\"durum\").max()\n",
      "C:\\Users\\gokha\\AppData\\Local\\Temp\\ipykernel_2996\\2966597711.py:8: FutureWarning: The default of observed=False is deprecated and will be changed to True in a future version of pandas. Pass observed=False to retain current behavior or observed=True to adopt the future default and silence this warning.\n",
      "  G=verSeti[[\"mpg\",\"durum\"]].groupby(\"durum\").std()\n",
      "C:\\Users\\gokha\\AppData\\Local\\Temp\\ipykernel_2996\\2966597711.py:9: FutureWarning: The default of observed=False is deprecated and will be changed to True in a future version of pandas. Pass observed=False to retain current behavior or observed=True to adopt the future default and silence this warning.\n",
      "  H=verSeti[[\"mpg\",\"durum\"]].groupby(\"durum\").describe()\n"
     ]
    }
   ],
   "source": [
    "\n",
    "A=verSeti[[\"mpg\",\"durum\"]].groupby(\"durum\").mean()\n",
    "B=verSeti.groupby(\"durum\")[\"mpg\"].mean()\n",
    "\n",
    "C=verSeti[[\"mpg\",\"durum\"]].groupby(\"durum\").sum()\n",
    "D=verSeti[[\"mpg\",\"durum\"]].groupby(\"durum\").count()\n",
    "E=verSeti[[\"mpg\",\"durum\"]].groupby(\"durum\").min()\n",
    "F=verSeti[[\"mpg\",\"durum\"]].groupby(\"durum\").max()\n",
    "G=verSeti[[\"mpg\",\"durum\"]].groupby(\"durum\").std()\n",
    "H=verSeti[[\"mpg\",\"durum\"]].groupby(\"durum\").describe()\n",
    "\n",
    "\n",
    "print(A)\n",
    "print(B)\n",
    "print(C)\n",
    "print(D)\n",
    "print(E)\n",
    "print(F)\n",
    "print(G)\n",
    "print(H)\n"
   ]
  },
  {
   "cell_type": "markdown",
   "metadata": {},
   "source": [
    " Tekrar Eden Gözlemlerin Bulunması"
   ]
  },
  {
   "cell_type": "markdown",
   "metadata": {},
   "source": [
    "duplicated() fonksiyonu kullanılabilir. keep=\"first\" parametresi, tekrar edilen gözlem değeri hariç bu gözlemden sonra tekrar eden diğer gözlemleri True olarak işaretler, diğer gözlemleri False olarak işaretler\n"
   ]
  },
  {
   "cell_type": "code",
   "execution_count": 18,
   "metadata": {},
   "outputs": [
    {
     "name": "stdout",
     "output_type": "stream",
     "text": [
      "car_name\n",
      "chevrolet chevelle malibu    False\n",
      "buick skylark 320            False\n",
      "plymouth satellite           False\n",
      "amc rebel sst                False\n",
      "ford torino                  False\n",
      "                             ...  \n",
      "ford mustang gl              False\n",
      "vw pickup                    False\n",
      "dodge rampage                False\n",
      "ford ranger                  False\n",
      "chevy s-10                   False\n",
      "Length: 398, dtype: bool\n",
      "-----------------------------------------------------------------------------------------------------------\n",
      "car_name\n",
      "chevrolet chevelle malibu    False\n",
      "buick skylark 320            False\n",
      "plymouth satellite           False\n",
      "amc rebel sst                False\n",
      "ford torino                  False\n",
      "                             ...  \n",
      "ford mustang gl              False\n",
      "vw pickup                    False\n",
      "dodge rampage                False\n",
      "ford ranger                  False\n",
      "chevy s-10                   False\n",
      "Length: 398, dtype: bool\n"
     ]
    }
   ],
   "source": [
    "tekrarlar_f=verSeti.duplicated(keep='first')\n",
    "tekrarlar_l=verSeti.duplicated(keep='last')\n",
    "\n",
    "print(tekrarlar_f)\n",
    "print(\"-----------------------------------------------------------------------------------------------------------\")\n",
    "print(tekrarlar_l)"
   ]
  },
  {
   "cell_type": "code",
   "execution_count": 20,
   "metadata": {},
   "outputs": [
    {
     "data": {
      "text/html": [
       "<div>\n",
       "<style scoped>\n",
       "    .dataframe tbody tr th:only-of-type {\n",
       "        vertical-align: middle;\n",
       "    }\n",
       "\n",
       "    .dataframe tbody tr th {\n",
       "        vertical-align: top;\n",
       "    }\n",
       "\n",
       "    .dataframe thead th {\n",
       "        text-align: right;\n",
       "    }\n",
       "</style>\n",
       "<table border=\"1\" class=\"dataframe\">\n",
       "  <thead>\n",
       "    <tr style=\"text-align: right;\">\n",
       "      <th></th>\n",
       "      <th>mpg</th>\n",
       "      <th>cylinders</th>\n",
       "      <th>displacement</th>\n",
       "      <th>horsepower</th>\n",
       "      <th>weight</th>\n",
       "      <th>acceleration</th>\n",
       "      <th>model_year</th>\n",
       "      <th>origin</th>\n",
       "      <th>durum</th>\n",
       "    </tr>\n",
       "    <tr>\n",
       "      <th>car_name</th>\n",
       "      <th></th>\n",
       "      <th></th>\n",
       "      <th></th>\n",
       "      <th></th>\n",
       "      <th></th>\n",
       "      <th></th>\n",
       "      <th></th>\n",
       "      <th></th>\n",
       "      <th></th>\n",
       "    </tr>\n",
       "  </thead>\n",
       "  <tbody>\n",
       "  </tbody>\n",
       "</table>\n",
       "</div>"
      ],
      "text/plain": [
       "Empty DataFrame\n",
       "Columns: [mpg, cylinders, displacement, horsepower, weight, acceleration, model_year, origin, durum]\n",
       "Index: []"
      ]
     },
     "execution_count": 20,
     "metadata": {},
     "output_type": "execute_result"
    }
   ],
   "source": [
    "indislerim = tekrarlar_l | tekrarlar_f\n",
    "verSeti[indislerim]"
   ]
  },
  {
   "cell_type": "markdown",
   "metadata": {},
   "source": [
    " Kullanılan veri setinde herhangi bir tekrar eden gözlem değeri olmadığından sonuçta hiçbir şey yazdırılmamıştır "
   ]
  },
  {
   "cell_type": "markdown",
   "metadata": {},
   "source": [
    "Tekrar gözlemler çıkar"
   ]
  },
  {
   "cell_type": "code",
   "execution_count": 21,
   "metadata": {},
   "outputs": [],
   "source": [
    "verSeti2=verSeti.drop_duplicates()"
   ]
  },
  {
   "cell_type": "markdown",
   "metadata": {},
   "source": [
    "~ Aykırı Değerlerin Tespiti"
   ]
  },
  {
   "cell_type": "markdown",
   "metadata": {},
   "source": [
    "(Inter Quartile Range - IQR)"
   ]
  },
  {
   "cell_type": "code",
   "execution_count": 38,
   "metadata": {},
   "outputs": [
    {
     "data": {
      "text/plain": [
       "array([  6,   7,   8,  13,  25,  26,  27,  67,  94,  95, 116], dtype=int64)"
      ]
     },
     "execution_count": 38,
     "metadata": {},
     "output_type": "execute_result"
    }
   ],
   "source": [
    "q1=verSeti[\"horsepower\"].quantile(0.25)\n",
    "q3= verSeti[\"horsepower\"].quantile(0.75)\n",
    "\n",
    "IQR= q3 - q1\n",
    "alt = q1 - 1.5*IQR\n",
    "ust = q3 + 1.5*IQR\n",
    "\n",
    "ust_aykiriDegerInd= np.where(verSeti[\"horsepower\"] >=ust)[0]\n",
    "alt_aykiriDegerInd= np.where(verSeti[\"horsepower\"] <=alt)[0]\n",
    "\n",
    "ust_aykiriDegerInd\n",
    "\n",
    "\n",
    "\n",
    "\n"
   ]
  },
  {
   "cell_type": "code",
   "execution_count": 30,
   "metadata": {},
   "outputs": [
    {
     "data": {
      "text/plain": [
       "array([], dtype=int64)"
      ]
     },
     "execution_count": 30,
     "metadata": {},
     "output_type": "execute_result"
    }
   ],
   "source": [
    "alt_aykiriDegerInd"
   ]
  },
  {
   "cell_type": "code",
   "execution_count": 33,
   "metadata": {},
   "outputs": [
    {
     "name": "stderr",
     "output_type": "stream",
     "text": [
      "C:\\Users\\gokha\\AppData\\Local\\Temp\\ipykernel_2996\\2746295048.py:1: FutureWarning: \n",
      "\n",
      "Passing `palette` without assigning `hue` is deprecated and will be removed in v0.14.0. Assign the `x` variable to `hue` and set `legend=False` for the same effect.\n",
      "\n",
      "  sns.boxplot(y=\"horsepower\",data=verSeti,palette=\"magma\")\n"
     ]
    },
    {
     "data": {
      "text/plain": [
       "<Axes: ylabel='horsepower'>"
      ]
     },
     "execution_count": 33,
     "metadata": {},
     "output_type": "execute_result"
    },
    {
     "data": {
      "image/png": "[encoded data removed]",
      "text/plain": [
       "<Figure size 640x480 with 1 Axes>"
      ]
     },
     "metadata": {},
     "output_type": "display_data"
    }
   ],
   "source": [
    "sns.boxplot(y=\"horsepower\",data=verSeti,palette=\"magma\")"
   ]
  },
  {
   "cell_type": "markdown",
   "metadata": {},
   "source": [
    "Eğer aykırı değerler veri setinden kaldırılmak istenirse aşağıdaki Python kodları çalıştırılabilir.\n",
    "\n",
    "verSeti.drop(index=ust_aykiriDegerInd, inplace=True)\n"
   ]
  },
  {
   "cell_type": "code",
   "execution_count": null,
   "metadata": {},
   "outputs": [],
   "source": []
  },
  {
   "cell_type": "code",
   "execution_count": null,
   "metadata": {},
   "outputs": [],
   "source": []
  }
 ],
 "metadata": {
  "kernelspec": {
   "display_name": "Python 3",
   "language": "python",
   "name": "python3"
  },
  "language_info": {
   "codemirror_mode": {
    "name": "ipython",
    "version": 3
   },
   "file_extension": ".py",
   "mimetype": "text/x-python",
   "name": "python",
   "nbconvert_exporter": "python",
   "pygments_lexer": "ipython3",
   "version": "3.12.3"
  }
 },
 "nbformat": 4,
 "nbformat_minor": 2
}
